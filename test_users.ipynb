{
  "nbformat": 4,
  "nbformat_minor": 0,
  "metadata": {
    "colab": {
      "provenance": []
    },
    "kernelspec": {
      "name": "python3",
      "display_name": "Python 3"
    },
    "language_info": {
      "name": "python"
    }
  },
  "cells": [
    {
      "cell_type": "code",
      "execution_count": 1,
      "metadata": {
        "colab": {
          "base_uri": "https://localhost:8080/"
        },
        "id": "KhU5EEs2TwC_",
        "outputId": "e4935db3-2391-4d34-8a66-70d463475d71"
      },
      "outputs": [
        {
          "output_type": "stream",
          "name": "stdout",
          "text": [
            "Username: admin | Password: password | Email: admin@example.com\n",
            "Username: user1 | Password: userpass | Email: user1@example.com\n",
            "Username: user2 | Password: mypassword | Email: user2@example.com\n"
          ]
        }
      ],
      "source": [
        "# Simulate a 'test_users' table\n",
        "test_users = [\n",
        "    {\"username\": \"admin\", \"password\": \"password\", \"email\": \"admin@example.com\"},\n",
        "    {\"username\": \"user1\", \"password\": \"userpass\", \"email\": \"user1@example.com\"},\n",
        "    {\"username\": \"user2\", \"password\": \"mypassword\", \"email\": \"user2@example.com\"}\n",
        "]\n",
        "\n",
        "# Function to simulate SQL Injection\n",
        "def get_users(input_value):\n",
        "    results = []\n",
        "    # Vulnerable logic (for SQLi demo)\n",
        "    for user in test_users:\n",
        "        if user['username'] == input_value or input_value == \"' OR '1'='1\":\n",
        "            results.append(user)\n",
        "    return results\n",
        "\n",
        "# Test input\n",
        "input_value = \"' OR '1'='1\"  # SQL Injection payload\n",
        "results = get_users(input_value)\n",
        "\n",
        "# Show results\n",
        "for r in results:\n",
        "    print(f\"Username: {r['username']} | Password: {r['password']} | Email: {r['email']}\")\n",
        "\n"
      ]
    }
  ]
}